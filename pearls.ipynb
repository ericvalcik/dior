{
 "cells": [
  {
   "cell_type": "code",
   "execution_count": 1,
   "metadata": {},
   "outputs": [],
   "source": [
    "from PIL import Image\n",
    "import matplotlib.pyplot as plt\n",
    "from os import listdir\n",
    "from os.path import isfile, join\n",
    "from typing import Tuple, List\n",
    "import pandas as pd\n",
    "import json"
   ]
  },
  {
   "cell_type": "code",
   "execution_count": 2,
   "metadata": {},
   "outputs": [],
   "source": [
    "def are_similar(pixels: List[Tuple[int, int, int, int]], correct_pixels: List[Tuple[int, int, int, int]], difference = 0.1):\n",
    "    tresh = 255 * 3 * difference\n",
    "    for i, pixel in enumerate(pixels):\n",
    "        if tresh < diff_two_pixels(pixels[i], correct_pixels[i]):\n",
    "            return False\n",
    "    return True\n",
    "\n",
    "def diff_two_pixels(pixel1, pixel2):\n",
    "    diff = 0\n",
    "    for i in range(3):\n",
    "        diff += abs(pixel1[i] - pixel2[i])\n",
    "    return diff\n",
    "\n",
    "def get_pixel_vals(locations: List[Tuple[int, int]], img: str):\n",
    "    im = Image.open(img)\n",
    "    ret_list = []\n",
    "    for loc in locations:\n",
    "        ret_list.append(im.getpixel(loc))\n",
    "    return ret_list\n",
    "\n",
    "def gen_labels(file_, name, difference, locations = [(608, 469), (613, 472), (616, 475), (634, 476), (621, 476)]):\n",
    "\n",
    "    correct_pixel_vals = get_pixel_vals(locations, join('pics', file_))\n",
    "\n",
    "    ret = []\n",
    "\n",
    "    for f in onlyfiles:\n",
    "        if are_similar(get_pixel_vals(locations, join('pics', f)), correct_pixel_vals, difference):\n",
    "            ret.append(f)\n",
    "            eyes[f] = name\n",
    "    print(len(ret))\n",
    "    return ret"
   ]
  },
  {
   "cell_type": "code",
   "execution_count": null,
   "metadata": {},
   "outputs": [],
   "source": [
    "onlyfiles = [f for f in listdir('pics') if isfile(join('pics', f))]"
   ]
  },
  {
   "cell_type": "code",
   "execution_count": null,
   "metadata": {},
   "outputs": [],
   "source": [
    "def crop_and_label():\n",
    "    onlyfiles = [f for f in listdir('pics') if isfile(join('pics', f))]\n",
    "\n",
    "    dict_ = {}\n",
    "\n",
    "    for i, file in onlyfiles:\n",
    "        plt.figure(figsize=(10, 10))\n",
    "        im = Image.open(join('pics', file))\n",
    "        im = im.crop((530, 380, 715, 505))\n",
    "        print(f'{file}')\n",
    "        plt.imshow(im)\n",
    "        plt.show()\n",
    "        finta = True\n",
    "        while (finta):\n",
    "            finta = False\n",
    "            string = input()\n",
    "            if string == 'pch':\n",
    "                dict_[file] = 'PearlsAndChainSet'\n",
    "            elif string == 'bw':\n",
    "                dict_[file] = 'BlackAndWhitePearlsSet'\n",
    "            elif string == 'pw':\n",
    "                dict_[file] = 'PurpleAndWhitePearlsSet'\n",
    "            elif string == 'lp':\n",
    "                dict_[file] = 'LargerPearls'\n",
    "            elif string == 'p':\n",
    "                dict_[file] = 'Pearls'\n",
    "            elif string == 'ps':\n",
    "                dict_[file] = 'PearlsSet'\n",
    "            elif string == 'c':\n",
    "                dict_[file] = 'CubanLinkChain'\n",
    "            else:\n",
    "                finta = True\n",
    "\n",
    "    series = pd.Series(dict_)\n",
    "    series.sort_index(inplace=True)\n",
    "    series.to_csv(output.txt, index=False)"
   ]
  }
 ],
 "metadata": {
  "interpreter": {
   "hash": "b65374f9ecb2843f7ebbb613c70eb4997deed8ed3cec693e496f139203d2e5e3"
  },
  "kernelspec": {
   "display_name": "Python 3.9.5 64-bit",
   "language": "python",
   "name": "python3"
  },
  "language_info": {
   "codemirror_mode": {
    "name": "ipython",
    "version": 3
   },
   "file_extension": ".py",
   "mimetype": "text/x-python",
   "name": "python",
   "nbconvert_exporter": "python",
   "pygments_lexer": "ipython3",
   "version": "3.9.5"
  },
  "orig_nbformat": 4
 },
 "nbformat": 4,
 "nbformat_minor": 2
}
